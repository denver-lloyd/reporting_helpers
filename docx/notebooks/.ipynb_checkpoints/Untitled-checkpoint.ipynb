{
 "cells": [
  {
   "cell_type": "code",
   "execution_count": 7,
   "id": "34981308",
   "metadata": {},
   "outputs": [
    {
     "name": "stdout",
     "output_type": "stream",
     "text": [
      "The autoreload extension is already loaded. To reload it, use:\n",
      "  %reload_ext autoreload\n"
     ]
    }
   ],
   "source": [
    "%load_ext autoreload\n",
    "%autoreload 2\n",
    "import sys\n",
    "sys.path.insert(0, r'C:\\workspace\\reporting_helpers\\docx\\src')\n",
    "import routines\n",
    "import pandas as pd"
   ]
  },
  {
   "cell_type": "markdown",
   "id": "70643c5c",
   "metadata": {},
   "source": [
    "## Routines"
   ]
  },
  {
   "cell_type": "markdown",
   "id": "3efc7dbb",
   "metadata": {},
   "source": [
    "### Read Template"
   ]
  },
  {
   "cell_type": "code",
   "execution_count": 3,
   "id": "a943917b",
   "metadata": {},
   "outputs": [],
   "source": [
    "document = routines.read_template(r'C:\\workspace\\reporting_helpers\\docx\\templates\\Example.docx')"
   ]
  },
  {
   "cell_type": "markdown",
   "id": "60bb24e0",
   "metadata": {},
   "source": [
    "### Add Image"
   ]
  },
  {
   "cell_type": "code",
   "execution_count": 4,
   "id": "fc873b69",
   "metadata": {},
   "outputs": [],
   "source": [
    "document = routines.add_image(document,\n",
    "                              r'C:\\workspace\\reporting_helpers\\docx\\templates\\Col FPN [e] vs Mean Signal [e].png',\n",
    "                              caption='Example Plot 0: My Summary Metrics',\n",
    "                              new_page=False)"
   ]
  },
  {
   "cell_type": "code",
   "execution_count": 5,
   "id": "4eeeee09",
   "metadata": {},
   "outputs": [],
   "source": [
    "routines.save(document, r'C:\\workspace\\reporting_helpers\\docx\\templates\\result.docx')"
   ]
  },
  {
   "cell_type": "markdown",
   "id": "8403f9d2",
   "metadata": {},
   "source": [
    "### Add Table"
   ]
  },
  {
   "cell_type": "code",
   "execution_count": 10,
   "id": "3c813731",
   "metadata": {},
   "outputs": [],
   "source": [
    "table = pd.read_csv(r'C:\\workspace\\reporting_helpers\\docx\\templates\\EMVA_SUMM.csv')\n",
    "document = routines.add_table(document,\n",
    "                              table,\n",
    "                             caption='Example Table 0: My Summary Metrics')"
   ]
  },
  {
   "cell_type": "code",
   "execution_count": 11,
   "id": "22812f1e",
   "metadata": {},
   "outputs": [],
   "source": [
    "routines.save(document, r'C:\\workspace\\reporting_helpers\\docx\\templates\\result.docx')"
   ]
  },
  {
   "cell_type": "markdown",
   "id": "6ec58ab9",
   "metadata": {},
   "source": [
    "### Add Header"
   ]
  },
  {
   "cell_type": "code",
   "execution_count": null,
   "id": "e32dba6e",
   "metadata": {},
   "outputs": [],
   "source": []
  }
 ],
 "metadata": {
  "kernelspec": {
   "display_name": "Python 3 (ipykernel)",
   "language": "python",
   "name": "python3"
  },
  "language_info": {
   "codemirror_mode": {
    "name": "ipython",
    "version": 3
   },
   "file_extension": ".py",
   "mimetype": "text/x-python",
   "name": "python",
   "nbconvert_exporter": "python",
   "pygments_lexer": "ipython3",
   "version": "3.9.7"
  },
  "toc": {
   "base_numbering": 1,
   "nav_menu": {},
   "number_sections": true,
   "sideBar": true,
   "skip_h1_title": false,
   "title_cell": "Table of Contents",
   "title_sidebar": "Contents",
   "toc_cell": false,
   "toc_position": {},
   "toc_section_display": true,
   "toc_window_display": false
  }
 },
 "nbformat": 4,
 "nbformat_minor": 5
}
