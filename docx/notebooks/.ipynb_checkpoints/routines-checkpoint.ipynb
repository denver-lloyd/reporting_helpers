{
 "cells": [
  {
   "cell_type": "code",
   "execution_count": 31,
   "id": "3dc55676",
   "metadata": {},
   "outputs": [
    {
     "name": "stdout",
     "output_type": "stream",
     "text": [
      "The autoreload extension is already loaded. To reload it, use:\n",
      "  %reload_ext autoreload\n"
     ]
    }
   ],
   "source": [
    "%load_ext autoreload\n",
    "%autoreload 2\n",
    "import sys\n",
    "import pandas as pd\n",
    "from pathlib import Path\n",
    "base_path = Path.cwd().parent\n",
    "example_path = Path(base_path / 'examples')\n",
    "source_path = Path(base_path / 'source')\n",
    "sys.path.insert(0, str(source_path))\n",
    "import routines"
   ]
  },
  {
   "cell_type": "markdown",
   "id": "ec44847d",
   "metadata": {},
   "source": [
    "## Routines"
   ]
  },
  {
   "cell_type": "markdown",
   "id": "feae5ee2",
   "metadata": {},
   "source": [
    "### Read Template"
   ]
  },
  {
   "cell_type": "code",
   "execution_count": 32,
   "id": "f7da53b8",
   "metadata": {},
   "outputs": [],
   "source": [
    "template_path = str(Path(example_path / 'Example.docx'))\n",
    "document = routines.read_template(template_path)"
   ]
  },
  {
   "cell_type": "markdown",
   "id": "bfb6a0ca",
   "metadata": {},
   "source": [
    "### Add Header"
   ]
  },
  {
   "cell_type": "code",
   "execution_count": 33,
   "id": "9b09dc19",
   "metadata": {},
   "outputs": [],
   "source": [
    "document = routines.add_header(document, header='1X Analog Gain, 10bit')"
   ]
  },
  {
   "cell_type": "markdown",
   "id": "8f2cc1b3",
   "metadata": {},
   "source": [
    "### Add Table"
   ]
  },
  {
   "cell_type": "code",
   "execution_count": 34,
   "id": "6fa9f5ec",
   "metadata": {},
   "outputs": [],
   "source": [
    "table = pd.read_csv(str(Path(example_path / 'EMVA_SUMM.csv')))\n",
    "document = routines.add_table(document,\n",
    "                              table,\n",
    "                              caption='Example Table 0: My Summary Metrics')"
   ]
  },
  {
   "cell_type": "markdown",
   "id": "ddf01237",
   "metadata": {},
   "source": [
    "### Add Image"
   ]
  },
  {
   "cell_type": "code",
   "execution_count": 35,
   "id": "b0ec8bcc",
   "metadata": {},
   "outputs": [],
   "source": [
    "image_path = str(Path(example_path / 'Col FPN [e] vs Mean Signal [e].png'))\n",
    "document = routines.add_image(document,\n",
    "                              image_path,\n",
    "                              caption='Example Plot 0: My Summary Metrics',\n",
    "                              new_page=False)"
   ]
  },
  {
   "cell_type": "markdown",
   "id": "8a618016",
   "metadata": {},
   "source": [
    "### Save Document"
   ]
  },
  {
   "cell_type": "code",
   "execution_count": 36,
   "id": "925ebc46",
   "metadata": {},
   "outputs": [],
   "source": [
    "save_path =  str(Path(example_path / 'generated_example.docx'))\n",
    "routines.save(document, save_path)"
   ]
  },
  {
   "cell_type": "markdown",
   "id": "1ceb5687",
   "metadata": {},
   "source": [
    "### Update TOC"
   ]
  },
  {
   "cell_type": "code",
   "execution_count": 37,
   "id": "78b7321a",
   "metadata": {},
   "outputs": [],
   "source": [
    "routines.update_toc(save_path)"
   ]
  },
  {
   "cell_type": "code",
   "execution_count": null,
   "id": "f4c6c34e",
   "metadata": {},
   "outputs": [],
   "source": []
  }
 ],
 "metadata": {
  "kernelspec": {
   "display_name": "Python 3 (ipykernel)",
   "language": "python",
   "name": "python3"
  },
  "language_info": {
   "codemirror_mode": {
    "name": "ipython",
    "version": 3
   },
   "file_extension": ".py",
   "mimetype": "text/x-python",
   "name": "python",
   "nbconvert_exporter": "python",
   "pygments_lexer": "ipython3",
   "version": "3.9.7"
  },
  "toc": {
   "base_numbering": 1,
   "nav_menu": {},
   "number_sections": true,
   "sideBar": true,
   "skip_h1_title": false,
   "title_cell": "Table of Contents",
   "title_sidebar": "Contents",
   "toc_cell": false,
   "toc_position": {},
   "toc_section_display": true,
   "toc_window_display": false
  }
 },
 "nbformat": 4,
 "nbformat_minor": 5
}
