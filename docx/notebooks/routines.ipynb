{
 "cells": [
  {
   "cell_type": "code",
   "execution_count": 38,
   "id": "3dc55676",
   "metadata": {},
   "outputs": [
    {
     "name": "stdout",
     "output_type": "stream",
     "text": [
      "The autoreload extension is already loaded. To reload it, use:\n",
      "  %reload_ext autoreload\n"
     ]
    }
   ],
   "source": [
    "%load_ext autoreload\n",
    "%autoreload 2\n",
    "import sys\n",
    "import pandas as pd\n",
    "from pathlib import Path\n",
    "base_path = Path.cwd().parent\n",
    "example_path = Path(base_path / 'examples')\n",
    "source_path = Path(base_path / 'source')\n",
    "sys.path.insert(0, str(source_path))\n",
    "import routines"
   ]
  },
  {
   "cell_type": "markdown",
   "id": "ec44847d",
   "metadata": {},
   "source": [
    "## Routines"
   ]
  },
  {
   "cell_type": "markdown",
   "id": "feae5ee2",
   "metadata": {},
   "source": [
    "### Read Template"
   ]
  },
  {
   "cell_type": "code",
   "execution_count": 39,
   "id": "f7da53b8",
   "metadata": {},
   "outputs": [],
   "source": [
    "template_path = str(Path(example_path / 'Example.docx'))\n",
    "document = routines.read_template(template_path)"
   ]
  },
  {
   "cell_type": "markdown",
   "id": "bfb6a0ca",
   "metadata": {},
   "source": [
    "### Add Header"
   ]
  },
  {
   "cell_type": "code",
   "execution_count": 40,
   "id": "9b09dc19",
   "metadata": {},
   "outputs": [],
   "source": [
    "document = routines.add_header(document, header='1X Analog Gain, 10bit')"
   ]
  },
  {
   "cell_type": "markdown",
   "id": "8f2cc1b3",
   "metadata": {},
   "source": [
    "### Add Table"
   ]
  },
  {
   "cell_type": "code",
   "execution_count": 41,
   "id": "6fa9f5ec",
   "metadata": {},
   "outputs": [],
   "source": [
    "table = pd.read_csv(str(Path(example_path / 'EMVA_SUMM.csv')))\n",
    "document = routines.add_table(document,\n",
    "                              table,\n",
    "                              caption='Example Table 0: My Summary Metrics')"
   ]
  },
  {
   "cell_type": "markdown",
   "id": "ddf01237",
   "metadata": {},
   "source": [
    "### Add Image"
   ]
  },
  {
   "cell_type": "code",
   "execution_count": 42,
   "id": "b0ec8bcc",
   "metadata": {},
   "outputs": [],
   "source": [
    "image_path = str(Path(example_path / 'Col FPN [e] vs Mean Signal [e].png'))\n",
    "document = routines.add_image(document,\n",
    "                              image_path,\n",
    "                              caption='Example Plot 0: My Summary Metrics',\n",
    "                              new_page=False)"
   ]
  },
  {
   "cell_type": "markdown",
   "id": "8a618016",
   "metadata": {},
   "source": [
    "### Save Document"
   ]
  },
  {
   "cell_type": "code",
   "execution_count": 43,
   "id": "925ebc46",
   "metadata": {},
   "outputs": [],
   "source": [
    "save_path =  str(Path(example_path / 'generated_example.docx'))\n",
    "routines.save(document, save_path)"
   ]
  },
  {
   "cell_type": "markdown",
   "id": "1ceb5687",
   "metadata": {},
   "source": [
    "### Update TOC"
   ]
  },
  {
   "cell_type": "code",
   "execution_count": 44,
   "id": "2ff85281",
   "metadata": {},
   "outputs": [
    {
     "ename": "com_error",
     "evalue": "(-2147352567, 'Exception occurred.', (0, 'Microsoft Word', 'The requested member of the collection does not exist.', 'wdmain11.chm', 25421, -2146822347), None)",
     "output_type": "error",
     "traceback": [
      "\u001b[1;31m---------------------------------------------------------------------------\u001b[0m",
      "\u001b[1;31mcom_error\u001b[0m                                 Traceback (most recent call last)",
      "\u001b[1;32m~\\AppData\\Local\\Temp/ipykernel_20024/2958271560.py\u001b[0m in \u001b[0;36m<module>\u001b[1;34m\u001b[0m\n\u001b[1;32m----> 1\u001b[1;33m \u001b[0mroutines\u001b[0m\u001b[1;33m.\u001b[0m\u001b[0mupdate_toc\u001b[0m\u001b[1;33m(\u001b[0m\u001b[0msave_path\u001b[0m\u001b[1;33m)\u001b[0m\u001b[1;33m\u001b[0m\u001b[1;33m\u001b[0m\u001b[0m\n\u001b[0m",
      "\u001b[1;32mC:\\workspace\\reporting_tools\\docx\\source\\routines.py\u001b[0m in \u001b[0;36mupdate_toc\u001b[1;34m(file)\u001b[0m\n\u001b[0;32m    170\u001b[0m     \u001b[0mword\u001b[0m \u001b[1;33m=\u001b[0m \u001b[0mwin32com\u001b[0m\u001b[1;33m.\u001b[0m\u001b[0mclient\u001b[0m\u001b[1;33m.\u001b[0m\u001b[0mDispatchEx\u001b[0m\u001b[1;33m(\u001b[0m\u001b[1;34m\"Word.Application\"\u001b[0m\u001b[1;33m)\u001b[0m\u001b[1;33m\u001b[0m\u001b[1;33m\u001b[0m\u001b[0m\n\u001b[0;32m    171\u001b[0m     \u001b[0mdoc\u001b[0m \u001b[1;33m=\u001b[0m \u001b[0mword\u001b[0m\u001b[1;33m.\u001b[0m\u001b[0mDocuments\u001b[0m\u001b[1;33m.\u001b[0m\u001b[0mOpen\u001b[0m\u001b[1;33m(\u001b[0m\u001b[0mfile\u001b[0m\u001b[1;33m)\u001b[0m\u001b[1;33m\u001b[0m\u001b[1;33m\u001b[0m\u001b[0m\n\u001b[1;32m--> 172\u001b[1;33m     \u001b[0mdoc\u001b[0m\u001b[1;33m.\u001b[0m\u001b[0mTablesOfContents\u001b[0m\u001b[1;33m(\u001b[0m\u001b[1;36m1\u001b[0m\u001b[1;33m)\u001b[0m\u001b[1;33m.\u001b[0m\u001b[0mUpdate\u001b[0m\u001b[1;33m(\u001b[0m\u001b[1;33m)\u001b[0m\u001b[1;33m\u001b[0m\u001b[1;33m\u001b[0m\u001b[0m\n\u001b[0m\u001b[0;32m    173\u001b[0m     \u001b[0mdoc\u001b[0m\u001b[1;33m.\u001b[0m\u001b[0mClose\u001b[0m\u001b[1;33m(\u001b[0m\u001b[0mSaveChanges\u001b[0m\u001b[1;33m=\u001b[0m\u001b[1;32mTrue\u001b[0m\u001b[1;33m)\u001b[0m\u001b[1;33m\u001b[0m\u001b[1;33m\u001b[0m\u001b[0m\n\u001b[0;32m    174\u001b[0m     \u001b[0mword\u001b[0m\u001b[1;33m.\u001b[0m\u001b[0mQuit\u001b[0m\u001b[1;33m(\u001b[0m\u001b[1;33m)\u001b[0m\u001b[1;33m\u001b[0m\u001b[1;33m\u001b[0m\u001b[0m\n",
      "\u001b[1;32mC:\\Anaconda3\\lib\\site-packages\\win32com\\client\\dynamic.py\u001b[0m in \u001b[0;36m__call__\u001b[1;34m(self, *args)\u001b[0m\n\u001b[0;32m    195\u001b[0m                 \u001b[1;32mif\u001b[0m \u001b[0minvkind\u001b[0m \u001b[1;32mis\u001b[0m \u001b[1;32mnot\u001b[0m \u001b[1;32mNone\u001b[0m\u001b[1;33m:\u001b[0m\u001b[1;33m\u001b[0m\u001b[1;33m\u001b[0m\u001b[0m\n\u001b[0;32m    196\u001b[0m                         \u001b[0mallArgs\u001b[0m \u001b[1;33m=\u001b[0m \u001b[1;33m(\u001b[0m\u001b[0mdispid\u001b[0m\u001b[1;33m,\u001b[0m\u001b[0mLCID\u001b[0m\u001b[1;33m,\u001b[0m\u001b[0minvkind\u001b[0m\u001b[1;33m,\u001b[0m\u001b[1;36m1\u001b[0m\u001b[1;33m)\u001b[0m \u001b[1;33m+\u001b[0m \u001b[0margs\u001b[0m\u001b[1;33m\u001b[0m\u001b[1;33m\u001b[0m\u001b[0m\n\u001b[1;32m--> 197\u001b[1;33m                         \u001b[1;32mreturn\u001b[0m \u001b[0mself\u001b[0m\u001b[1;33m.\u001b[0m\u001b[0m_get_good_object_\u001b[0m\u001b[1;33m(\u001b[0m\u001b[0mself\u001b[0m\u001b[1;33m.\u001b[0m\u001b[0m_oleobj_\u001b[0m\u001b[1;33m.\u001b[0m\u001b[0mInvoke\u001b[0m\u001b[1;33m(\u001b[0m\u001b[1;33m*\u001b[0m\u001b[0mallArgs\u001b[0m\u001b[1;33m)\u001b[0m\u001b[1;33m,\u001b[0m\u001b[0mself\u001b[0m\u001b[1;33m.\u001b[0m\u001b[0m_olerepr_\u001b[0m\u001b[1;33m.\u001b[0m\u001b[0mdefaultDispatchName\u001b[0m\u001b[1;33m,\u001b[0m\u001b[1;32mNone\u001b[0m\u001b[1;33m)\u001b[0m\u001b[1;33m\u001b[0m\u001b[1;33m\u001b[0m\u001b[0m\n\u001b[0m\u001b[0;32m    198\u001b[0m                 \u001b[1;32mraise\u001b[0m \u001b[0mTypeError\u001b[0m\u001b[1;33m(\u001b[0m\u001b[1;34m\"This dispatch object does not define a default method\"\u001b[0m\u001b[1;33m)\u001b[0m\u001b[1;33m\u001b[0m\u001b[1;33m\u001b[0m\u001b[0m\n\u001b[0;32m    199\u001b[0m \u001b[1;33m\u001b[0m\u001b[0m\n",
      "\u001b[1;31mcom_error\u001b[0m: (-2147352567, 'Exception occurred.', (0, 'Microsoft Word', 'The requested member of the collection does not exist.', 'wdmain11.chm', 25421, -2146822347), None)"
     ]
    }
   ],
   "source": [
    "routines.update_toc(save_path)"
   ]
  },
  {
   "cell_type": "code",
   "execution_count": null,
   "id": "478f1ac6",
   "metadata": {},
   "outputs": [],
   "source": []
  }
 ],
 "metadata": {
  "kernelspec": {
   "display_name": "Python 3 (ipykernel)",
   "language": "python",
   "name": "python3"
  },
  "language_info": {
   "codemirror_mode": {
    "name": "ipython",
    "version": 3
   },
   "file_extension": ".py",
   "mimetype": "text/x-python",
   "name": "python",
   "nbconvert_exporter": "python",
   "pygments_lexer": "ipython3",
   "version": "3.9.7"
  },
  "toc": {
   "base_numbering": 1,
   "nav_menu": {},
   "number_sections": true,
   "sideBar": true,
   "skip_h1_title": false,
   "title_cell": "Table of Contents",
   "title_sidebar": "Contents",
   "toc_cell": false,
   "toc_position": {},
   "toc_section_display": true,
   "toc_window_display": false
  }
 },
 "nbformat": 4,
 "nbformat_minor": 5
}
