{
 "cells": [
  {
   "cell_type": "code",
   "execution_count": null,
   "id": "3dc55676",
   "metadata": {},
   "outputs": [],
   "source": [
    "%load_ext autoreload\n",
    "%autoreload 2\n",
    "import sys\n",
    "sys.path.insert(0, r'C:\\workspace\\reporting_helpers\\docx\\src')\n",
    "import routines\n",
    "import pandas as pd"
   ]
  },
  {
   "cell_type": "markdown",
   "id": "ec44847d",
   "metadata": {},
   "source": [
    "## Routines"
   ]
  },
  {
   "cell_type": "markdown",
   "id": "feae5ee2",
   "metadata": {},
   "source": [
    "### Read Template"
   ]
  },
  {
   "cell_type": "code",
   "execution_count": 2,
   "id": "f7da53b8",
   "metadata": {},
   "outputs": [],
   "source": [
    "document = routines.read_template(r'C:\\workspace\\reporting_helpers\\docx\\templates\\Example.docx')"
   ]
  },
  {
   "cell_type": "markdown",
   "id": "bfb6a0ca",
   "metadata": {},
   "source": [
    "### Add Header"
   ]
  },
  {
   "cell_type": "code",
   "execution_count": 7,
   "id": "9b09dc19",
   "metadata": {},
   "outputs": [],
   "source": [
    "document = routines.add_header(document, header='1X Analog Gain, 10bit')"
   ]
  },
  {
   "cell_type": "markdown",
   "id": "ddf01237",
   "metadata": {},
   "source": [
    "### Add Image"
   ]
  },
  {
   "cell_type": "code",
   "execution_count": 3,
   "id": "b0ec8bcc",
   "metadata": {},
   "outputs": [],
   "source": [
    "document = routines.add_image(document,\n",
    "                              r'C:\\workspace\\reporting_helpers\\docx\\templates\\Col FPN [e] vs Mean Signal [e].png',\n",
    "                              caption='Example Plot 0: My Summary Metrics',\n",
    "                              new_page=False)"
   ]
  },
  {
   "cell_type": "code",
   "execution_count": 4,
   "id": "6470dedf",
   "metadata": {},
   "outputs": [],
   "source": [
    "routines.save(document, r'C:\\workspace\\reporting_helpers\\docx\\templates\\result.docx')"
   ]
  },
  {
   "cell_type": "markdown",
   "id": "8f2cc1b3",
   "metadata": {},
   "source": [
    "### Add Table"
   ]
  },
  {
   "cell_type": "code",
   "execution_count": 5,
   "id": "6fa9f5ec",
   "metadata": {},
   "outputs": [],
   "source": [
    "table = pd.read_csv(r'C:\\workspace\\reporting_helpers\\docx\\templates\\EMVA_SUMM.csv')\n",
    "document = routines.add_table(document,\n",
    "                              table,\n",
    "                             caption='Example Table 0: My Summary Metrics')"
   ]
  },
  {
   "cell_type": "code",
   "execution_count": 6,
   "id": "d91fa397",
   "metadata": {},
   "outputs": [],
   "source": [
    "routines.save(document, r'C:\\workspace\\reporting_helpers\\docx\\templates\\result.docx')"
   ]
  },
  {
   "cell_type": "markdown",
   "id": "8a618016",
   "metadata": {},
   "source": [
    "### Save Document"
   ]
  },
  {
   "cell_type": "code",
   "execution_count": 8,
   "id": "925ebc46",
   "metadata": {},
   "outputs": [],
   "source": [
    "save_path =  r'C:\\workspace\\reporting_helpers\\docx\\templates\\result.docx'\n",
    "routines.save(document, save_path)"
   ]
  },
  {
   "cell_type": "markdown",
   "id": "1ceb5687",
   "metadata": {},
   "source": [
    "### Update TOC"
   ]
  }
 ],
 "metadata": {
  "kernelspec": {
   "display_name": "Python 3 (ipykernel)",
   "language": "python",
   "name": "python3"
  },
  "language_info": {
   "codemirror_mode": {
    "name": "ipython",
    "version": 3
   },
   "file_extension": ".py",
   "mimetype": "text/x-python",
   "name": "python",
   "nbconvert_exporter": "python",
   "pygments_lexer": "ipython3",
   "version": "3.9.7"
  },
  "toc": {
   "base_numbering": 1,
   "nav_menu": {},
   "number_sections": true,
   "sideBar": true,
   "skip_h1_title": false,
   "title_cell": "Table of Contents",
   "title_sidebar": "Contents",
   "toc_cell": false,
   "toc_position": {},
   "toc_section_display": true,
   "toc_window_display": false
  }
 },
 "nbformat": 4,
 "nbformat_minor": 5
}
